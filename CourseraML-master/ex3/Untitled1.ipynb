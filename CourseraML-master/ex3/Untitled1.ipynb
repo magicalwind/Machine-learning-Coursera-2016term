{
 "cells": [
  {
   "cell_type": "code",
   "execution_count": 1,
   "metadata": {
    "collapsed": true
   },
   "outputs": [],
   "source": [
    "%matplotlib inline\n",
    "import numpy as np\n",
    "import matplotlib.pyplot as plt\n",
    "import pandas as pd\n",
    "import scipy.io #Used to load the OCTAVE *.mat files\n",
    "import scipy.misc #Used to show matrix as an image\n",
    "import matplotlib.cm as cm #Used to display images in a specific colormap\n",
    "import random #To pick random images to display\n",
    "from scipy.special import expit #Vectorized sigmoid function\n",
    "\n"
   ]
  },
  {
   "cell_type": "code",
   "execution_count": 33,
   "metadata": {
    "collapsed": false
   },
   "outputs": [
    {
     "name": "stdout",
     "output_type": "stream",
     "text": [
      "[4 5 6]\n"
     ]
    },
    {
     "data": {
      "text/plain": [
       "(3,)"
      ]
     },
     "execution_count": 33,
     "metadata": {},
     "output_type": "execute_result"
    }
   ],
   "source": [
    "A=np.array([[1,2,3,4,5,6,7,8,9]])\n",
    "\n",
    "B=A.reshape(3,3)\n",
    "print B[1]\n",
    "np.shape(B[1])"
   ]
  },
  {
   "cell_type": "code",
   "execution_count": 11,
   "metadata": {
    "collapsed": false
   },
   "outputs": [
    {
     "name": "stdout",
     "output_type": "stream",
     "text": [
      "[159, 56, 27, 198, 432, 440, 423, 30, 230, 121, 368, 47, 42, 275, 236, 175, 281, 369, 491, 126, 114, 209, 249, 384, 439, 70, 132, 492, 330, 48, 441, 185, 157, 356, 178, 471, 295, 480, 245, 166, 85, 399, 240, 385, 20, 387, 112, 127, 206, 381, 158, 448, 366, 108, 456, 445, 220, 197, 309, 395, 33, 490, 153, 382, 484, 74, 87, 239, 227, 193, 327, 416, 145, 205, 269, 345, 334, 54, 232, 62, 407, 463, 140, 67, 247, 58, 478, 221, 36, 434, 5, 133, 191, 176, 73, 125, 246, 358, 437, 171]\n"
     ]
    }
   ],
   "source": [
    "B=random.sample(range(500),100)\n",
    "type(B)\n",
    "print B"
   ]
  },
  {
   "cell_type": "code",
   "execution_count": 15,
   "metadata": {
    "collapsed": false
   },
   "outputs": [
    {
     "data": {
      "text/plain": [
       "array([[ 0,  1,  2,  3,  4,  5,  6,  7,  8],\n",
       "       [-1,  0,  1,  2,  3,  4,  5,  6,  7],\n",
       "       [-2, -1,  0,  1,  2,  3,  4,  5,  6]])"
      ]
     },
     "execution_count": 15,
     "metadata": {},
     "output_type": "execute_result"
    }
   ],
   "source": [
    "B=np.array([[1],[2],[3]])\n",
    "A-B\n"
   ]
  },
  {
   "cell_type": "code",
   "execution_count": 30,
   "metadata": {
    "collapsed": false
   },
   "outputs": [
    {
     "name": "stdout",
     "output_type": "stream",
     "text": [
      "[ 0.  0.  0.  0.  0.  0.]\n"
     ]
    }
   ],
   "source": [
    "W=np.zeros((6,1)).reshape(-1)\n",
    "print W"
   ]
  },
  {
   "cell_type": "code",
   "execution_count": 50,
   "metadata": {
    "collapsed": false
   },
   "outputs": [
    {
     "name": "stdout",
     "output_type": "stream",
     "text": [
      "[[1 2 3]\n",
      " [4 5 6]\n",
      " [7 8 9]]\n",
      "[[14]\n",
      " [32]\n",
      " [50]]\n",
      "<type 'list'>\n",
      "<type 'numpy.ndarray'>\n",
      "[14 32 50]\n",
      "(3,)\n",
      "(9,)\n",
      "[1, 2, 3, 4, 5, 6, 7, 8, 9]\n"
     ]
    },
    {
     "data": {
      "text/plain": [
       "list"
      ]
     },
     "execution_count": 50,
     "metadata": {},
     "output_type": "execute_result"
    }
   ],
   "source": [
    "print B\n",
    "C=np.array([[1],[2],[3]])\n",
    "print np.dot(B,C)\n",
    "D=[1,2,3]\n",
    "print type(D)\n",
    "E=B.dot(D)\n",
    "print type(E)\n",
    "print E\n",
    "print np.shape(E)\n",
    "E=B.flatten()\n",
    "print np.shape(E)\n",
    "F=list(E)\n",
    "print F\n",
    "type(F)"
   ]
  },
  {
   "cell_type": "code",
   "execution_count": 57,
   "metadata": {
    "collapsed": false
   },
   "outputs": [
    {
     "name": "stdout",
     "output_type": "stream",
     "text": [
      "-5\n"
     ]
    }
   ],
   "source": [
    "import random\n",
    "x=random.randint(-20,10)\n",
    "print x"
   ]
  },
  {
   "cell_type": "code",
   "execution_count": null,
   "metadata": {
    "collapsed": true
   },
   "outputs": [],
   "source": []
  }
 ],
 "metadata": {
  "kernelspec": {
   "display_name": "Python [conda root]",
   "language": "python",
   "name": "conda-root-py"
  },
  "language_info": {
   "codemirror_mode": {
    "name": "ipython",
    "version": 2
   },
   "file_extension": ".py",
   "mimetype": "text/x-python",
   "name": "python",
   "nbconvert_exporter": "python",
   "pygments_lexer": "ipython2",
   "version": "2.7.12"
  }
 },
 "nbformat": 4,
 "nbformat_minor": 1
}
