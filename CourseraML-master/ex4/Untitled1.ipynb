{
 "cells": [
  {
   "cell_type": "code",
   "execution_count": 10,
   "metadata": {
    "collapsed": false
   },
   "outputs": [],
   "source": [
    "import warnings\n",
    "warnings.filterwarnings('ignore')\n",
    "import requests\n",
    "from bs4 import BeautifulSoup\n",
    "\n",
    "import matplotlib.pyplot as plt\n",
    "%matplotlib inline\n",
    "import seaborn as sns\n",
    "sns.set(style='whitegrid', context='notebook')\n",
    "# sns.reset_orig()\n",
    "\n",
    "import pandas as pd\n",
    "import numpy as np\n",
    "import scipy as sp\n",
    "import scipy.io"
   ]
  },
  {
   "cell_type": "code",
   "execution_count": 9,
   "metadata": {
    "collapsed": false
   },
   "outputs": [
    {
     "name": "stdout",
     "output_type": "stream",
     "text": [
      "<class 'pandas.core.frame.DataFrame'>\n",
      "birthday     object\n",
      "name         object\n",
      "score       float64\n",
      "y             int64\n",
      "dtype: object\n"
     ]
    },
    {
     "data": {
      "text/html": [
       "<div>\n",
       "<table border=\"1\" class=\"dataframe\">\n",
       "  <thead>\n",
       "    <tr style=\"text-align: right;\">\n",
       "      <th></th>\n",
       "      <th>birthday</th>\n",
       "      <th>name</th>\n",
       "      <th>score</th>\n",
       "      <th>y</th>\n",
       "    </tr>\n",
       "  </thead>\n",
       "  <tbody>\n",
       "    <tr>\n",
       "      <th>0</th>\n",
       "      <td>1902-08-08</td>\n",
       "      <td>Dirac</td>\n",
       "      <td>93.5</td>\n",
       "      <td>1</td>\n",
       "    </tr>\n",
       "    <tr>\n",
       "      <th>1</th>\n",
       "      <td>1900-04-25</td>\n",
       "      <td>Pauli</td>\n",
       "      <td>89.4</td>\n",
       "      <td>2</td>\n",
       "    </tr>\n",
       "    <tr>\n",
       "      <th>2</th>\n",
       "      <td>1885-10-07</td>\n",
       "      <td>Bohr</td>\n",
       "      <td>90.3</td>\n",
       "      <td>3</td>\n",
       "    </tr>\n",
       "  </tbody>\n",
       "</table>\n",
       "</div>"
      ],
      "text/plain": [
       "     birthday   name  score  y\n",
       "0  1902-08-08  Dirac   93.5  1\n",
       "1  1900-04-25  Pauli   89.4  2\n",
       "2  1885-10-07   Bohr   90.3  3"
      ]
     },
     "execution_count": 9,
     "metadata": {},
     "output_type": "execute_result"
    }
   ],
   "source": [
    "df = pd.DataFrame(data={'y': [1, 2, 3],\n",
    "                       'score': [93.5, 89.4, 90.3],\n",
    "                       'name': ['Dirac', 'Pauli', 'Bohr'],\n",
    "                       'birthday': ['1902-08-08', '1900-04-25', '1885-10-07']})\n",
    "print(type(df))\n",
    "print(df.dtypes)\n",
    "df\n"
   ]
  },
  {
   "cell_type": "code",
   "execution_count": 11,
   "metadata": {
    "collapsed": false
   },
   "outputs": [
    {
     "name": "stdout",
     "output_type": "stream",
     "text": [
      "<class 'pandas.core.series.Series'>\n"
     ]
    },
    {
     "data": {
      "text/plain": [
       "0    93.5\n",
       "1    89.4\n",
       "2    90.3\n",
       "Name: score, dtype: float64"
      ]
     },
     "execution_count": 11,
     "metadata": {},
     "output_type": "execute_result"
    }
   ],
   "source": [
    "items = pd.Series(data=[93.5, 89.4, 90.3], name='score')\n",
    "print(type(items))\n",
    "items"
   ]
  },
  {
   "cell_type": "code",
   "execution_count": 12,
   "metadata": {
    "collapsed": false
   },
   "outputs": [
    {
     "name": "stdout",
     "output_type": "stream",
     "text": [
      "merged items along index axes:\n",
      "0          93.5\n",
      "1          89.4\n",
      "2          90.3\n",
      "0    1902-08-08\n",
      "1    1900-04-25\n",
      "dtype: object\n",
      "\n",
      "merged items along column axes:\n",
      "   score    birthday\n",
      "0   93.5  1902-08-08\n",
      "1   89.4  1900-04-25\n",
      "2   90.3         NaN\n"
     ]
    }
   ],
   "source": [
    "items2 = pd.Series(data=['1902-08-08', '1900-04-25'], name='birthday')\n",
    "\n",
    "print('merged items along index axes:')\n",
    "print(pd.concat(objs=[items, items2], axis=0))\n",
    "print('')\n",
    "print('merged items along column axes:')\n",
    "print(pd.concat(objs=[items, items2], axis=1))"
   ]
  },
  {
   "cell_type": "code",
   "execution_count": 13,
   "metadata": {
    "collapsed": false
   },
   "outputs": [
    {
     "data": {
      "text/plain": [
       "0            1902-08-08\n",
       "1            1900-04-25\n",
       "2   1885-10-07 00:00:00\n",
       "Name: birthday, dtype: datetime64[ns]"
      ]
     },
     "execution_count": 13,
     "metadata": {},
     "output_type": "execute_result"
    }
   ],
   "source": [
    "pd.to_datetime(arg=df.birthday, format='%Y-%m-%d')"
   ]
  },
  {
   "cell_type": "code",
   "execution_count": 25,
   "metadata": {
    "collapsed": false
   },
   "outputs": [
    {
     "name": "stdout",
     "output_type": "stream",
     "text": [
      "<class 'pandas.core.frame.DataFrame'>\n",
      "name        object\n",
      "friendly      bool\n",
      "dtype: object\n"
     ]
    }
   ],
   "source": [
    "df_new = pd.DataFrame(data=list(zip(['Dirac', 'Pauli', 'Bohr', 'Einstein'],\n",
    "                                    [True, False, True, True])),\n",
    "                      columns=['name', 'friendly'])\n",
    "print type(df_new)\n",
    "print df_new.dtypes"
   ]
  },
  {
   "cell_type": "code",
   "execution_count": 22,
   "metadata": {
    "collapsed": false
   },
   "outputs": [
    {
     "data": {
      "text/html": [
       "<div>\n",
       "<table border=\"1\" class=\"dataframe\">\n",
       "  <thead>\n",
       "    <tr style=\"text-align: right;\">\n",
       "      <th></th>\n",
       "      <th>birthday</th>\n",
       "      <th>name</th>\n",
       "      <th>score</th>\n",
       "      <th>y</th>\n",
       "      <th>friendly</th>\n",
       "    </tr>\n",
       "  </thead>\n",
       "  <tbody>\n",
       "    <tr>\n",
       "      <th>0</th>\n",
       "      <td>1902-08-08</td>\n",
       "      <td>Dirac</td>\n",
       "      <td>93.5</td>\n",
       "      <td>1.0</td>\n",
       "      <td>True</td>\n",
       "    </tr>\n",
       "    <tr>\n",
       "      <th>1</th>\n",
       "      <td>1900-04-25</td>\n",
       "      <td>Pauli</td>\n",
       "      <td>89.4</td>\n",
       "      <td>2.0</td>\n",
       "      <td>False</td>\n",
       "    </tr>\n",
       "    <tr>\n",
       "      <th>2</th>\n",
       "      <td>1885-10-07</td>\n",
       "      <td>Bohr</td>\n",
       "      <td>90.3</td>\n",
       "      <td>3.0</td>\n",
       "      <td>True</td>\n",
       "    </tr>\n",
       "    <tr>\n",
       "      <th>3</th>\n",
       "      <td>NaN</td>\n",
       "      <td>Einstein</td>\n",
       "      <td>NaN</td>\n",
       "      <td>NaN</td>\n",
       "      <td>True</td>\n",
       "    </tr>\n",
       "  </tbody>\n",
       "</table>\n",
       "</div>"
      ],
      "text/plain": [
       "     birthday      name  score    y friendly\n",
       "0  1902-08-08     Dirac   93.5  1.0     True\n",
       "1  1900-04-25     Pauli   89.4  2.0    False\n",
       "2  1885-10-07      Bohr   90.3  3.0     True\n",
       "3         NaN  Einstein    NaN  NaN     True"
      ]
     },
     "execution_count": 22,
     "metadata": {},
     "output_type": "execute_result"
    }
   ],
   "source": [
    "df_new = pd.DataFrame(data=list(zip(['Dirac', 'Pauli', 'Bohr', 'Einstein'],\n",
    "                                    [True, False, True, True])),\n",
    "                      columns=['name', 'friendly'])\n",
    "\n",
    "df_merge = pd.merge(left=df, right=df_new, on='name', how='outer')\n",
    "df_merge"
   ]
  },
  {
   "cell_type": "code",
   "execution_count": 23,
   "metadata": {
    "collapsed": false
   },
   "outputs": [
    {
     "data": {
      "text/plain": [
       "DatetimeIndex(['1885-10-31', '1885-11-30', '1885-12-31', '1886-01-31',\n",
       "               '1886-02-28', '1886-03-31', '1886-04-30', '1886-05-31',\n",
       "               '1886-06-30', '1886-07-31',\n",
       "               ...\n",
       "               '1901-10-31', '1901-11-30', '1901-12-31', '1902-01-31',\n",
       "               '1902-02-28', '1902-03-31', '1902-04-30', '1902-05-31',\n",
       "               '1902-06-30', '1902-07-31'],\n",
       "              dtype='datetime64[ns]', length=202, freq='M')"
      ]
     },
     "execution_count": 23,
     "metadata": {},
     "output_type": "execute_result"
    }
   ],
   "source": [
    "pd.date_range(start=df.birthday[2], end=df.birthday[0],\n",
    "              freq='M')\n"
   ]
  },
  {
   "cell_type": "code",
   "execution_count": 24,
   "metadata": {
    "collapsed": false
   },
   "outputs": [
    {
     "ename": "AssertionError",
     "evalue": "DataFrame.iloc[:, 1] are different\n\nDataFrame.iloc[:, 1] values are different (50.0 %)\n[left]:  [apple, cat]\n[right]: [apple, dog]",
     "output_type": "error",
     "traceback": [
      "\u001b[0;31m---------------------------------------------------------------------------\u001b[0m",
      "\u001b[0;31mAssertionError\u001b[0m                            Traceback (most recent call last)",
      "\u001b[0;32m<ipython-input-24-ee812a59bfd2>\u001b[0m in \u001b[0;36m<module>\u001b[0;34m()\u001b[0m\n\u001b[1;32m      5\u001b[0m                     'b': ['apple', 'dog']})\n\u001b[1;32m      6\u001b[0m \u001b[0;34m\u001b[0m\u001b[0m\n\u001b[0;32m----> 7\u001b[0;31m \u001b[0mpd\u001b[0m\u001b[0;34m.\u001b[0m\u001b[0mutil\u001b[0m\u001b[0;34m.\u001b[0m\u001b[0mtesting\u001b[0m\u001b[0;34m.\u001b[0m\u001b[0massert_frame_equal\u001b[0m\u001b[0;34m(\u001b[0m\u001b[0mdfa\u001b[0m\u001b[0;34m,\u001b[0m \u001b[0mdfb\u001b[0m\u001b[0;34m)\u001b[0m\u001b[0;34m\u001b[0m\u001b[0m\n\u001b[0m",
      "\u001b[0;32m/Users/tianbaili/anaconda/lib/python2.7/site-packages/pandas/util/testing.pyc\u001b[0m in \u001b[0;36massert_frame_equal\u001b[0;34m(left, right, check_dtype, check_index_type, check_column_type, check_frame_type, check_less_precise, check_names, by_blocks, check_exact, check_datetimelike_compat, check_like, obj)\u001b[0m\n\u001b[1;32m   1164\u001b[0m                 \u001b[0mcheck_exact\u001b[0m\u001b[0;34m=\u001b[0m\u001b[0mcheck_exact\u001b[0m\u001b[0;34m,\u001b[0m \u001b[0mcheck_names\u001b[0m\u001b[0;34m=\u001b[0m\u001b[0mcheck_names\u001b[0m\u001b[0;34m,\u001b[0m\u001b[0;34m\u001b[0m\u001b[0m\n\u001b[1;32m   1165\u001b[0m                 \u001b[0mcheck_datetimelike_compat\u001b[0m\u001b[0;34m=\u001b[0m\u001b[0mcheck_datetimelike_compat\u001b[0m\u001b[0;34m,\u001b[0m\u001b[0;34m\u001b[0m\u001b[0m\n\u001b[0;32m-> 1166\u001b[0;31m                 obj='DataFrame.iloc[:, {0}]'.format(i))\n\u001b[0m\u001b[1;32m   1167\u001b[0m \u001b[0;34m\u001b[0m\u001b[0m\n\u001b[1;32m   1168\u001b[0m \u001b[0;34m\u001b[0m\u001b[0m\n",
      "\u001b[0;32m/Users/tianbaili/anaconda/lib/python2.7/site-packages/pandas/util/testing.pyc\u001b[0m in \u001b[0;36massert_series_equal\u001b[0;34m(left, right, check_dtype, check_index_type, check_series_type, check_less_precise, check_names, check_exact, check_datetimelike_compat, obj)\u001b[0m\n\u001b[1;32m   1047\u001b[0m     \u001b[0;32melse\u001b[0m\u001b[0;34m:\u001b[0m\u001b[0;34m\u001b[0m\u001b[0m\n\u001b[1;32m   1048\u001b[0m         _testing.assert_almost_equal(left.get_values(), right.get_values(),\n\u001b[0;32m-> 1049\u001b[0;31m                                      check_less_precise, obj='{0}'.format(obj))\n\u001b[0m\u001b[1;32m   1050\u001b[0m \u001b[0;34m\u001b[0m\u001b[0m\n\u001b[1;32m   1051\u001b[0m     \u001b[0;31m# metadata comparison\u001b[0m\u001b[0;34m\u001b[0m\u001b[0;34m\u001b[0m\u001b[0m\n",
      "\u001b[0;32mpandas/src/testing.pyx\u001b[0m in \u001b[0;36mpandas._testing.assert_almost_equal (pandas/src/testing.c:3887)\u001b[0;34m()\u001b[0m\n",
      "\u001b[0;32mpandas/src/testing.pyx\u001b[0m in \u001b[0;36mpandas._testing.assert_almost_equal (pandas/src/testing.c:2769)\u001b[0;34m()\u001b[0m\n",
      "\u001b[0;32m/Users/tianbaili/anaconda/lib/python2.7/site-packages/pandas/util/testing.pyc\u001b[0m in \u001b[0;36mraise_assert_detail\u001b[0;34m(obj, message, left, right)\u001b[0m\n\u001b[1;32m    913\u001b[0m \u001b[0;34m[\u001b[0m\u001b[0mleft\u001b[0m\u001b[0;34m]\u001b[0m\u001b[0;34m:\u001b[0m  \u001b[0;34m{\u001b[0m\u001b[0;36m2\u001b[0m\u001b[0;34m}\u001b[0m\u001b[0;34m\u001b[0m\u001b[0m\n\u001b[1;32m    914\u001b[0m [right]: {3}\"\"\".format(obj, message, left, right)\n\u001b[0;32m--> 915\u001b[0;31m     \u001b[0;32mraise\u001b[0m \u001b[0mAssertionError\u001b[0m\u001b[0;34m(\u001b[0m\u001b[0mmsg\u001b[0m\u001b[0;34m)\u001b[0m\u001b[0;34m\u001b[0m\u001b[0m\n\u001b[0m\u001b[1;32m    916\u001b[0m \u001b[0;34m\u001b[0m\u001b[0m\n\u001b[1;32m    917\u001b[0m \u001b[0;34m\u001b[0m\u001b[0m\n",
      "\u001b[0;31mAssertionError\u001b[0m: DataFrame.iloc[:, 1] are different\n\nDataFrame.iloc[:, 1] values are different (50.0 %)\n[left]:  [apple, cat]\n[right]: [apple, dog]"
     ]
    }
   ],
   "source": [
    "dfa = pd.DataFrame({'a': [1.0, 2.0],\n",
    "                    'b': ['apple', 'cat']})\n",
    "\n",
    "dfb = pd.DataFrame({'a': [1.0, 2.0],\n",
    "                    'b': ['apple', 'dog']})\n",
    "\n",
    "pd.util.testing.assert_frame_equal(dfa, dfb)"
   ]
  },
  {
   "cell_type": "code",
   "execution_count": 32,
   "metadata": {
    "collapsed": false
   },
   "outputs": [
    {
     "data": {
      "text/plain": [
       "u'0.18.1'"
      ]
     },
     "execution_count": 32,
     "metadata": {},
     "output_type": "execute_result"
    }
   ],
   "source": [
    "import pandas as pd\n",
    "pd.__version__"
   ]
  },
  {
   "cell_type": "code",
   "execution_count": null,
   "metadata": {
    "collapsed": true
   },
   "outputs": [],
   "source": []
  }
 ],
 "metadata": {
  "kernelspec": {
   "display_name": "Python [conda root]",
   "language": "python",
   "name": "conda-root-py"
  },
  "language_info": {
   "codemirror_mode": {
    "name": "ipython",
    "version": 2
   },
   "file_extension": ".py",
   "mimetype": "text/x-python",
   "name": "python",
   "nbconvert_exporter": "python",
   "pygments_lexer": "ipython2",
   "version": "2.7.12"
  }
 },
 "nbformat": 4,
 "nbformat_minor": 1
}
