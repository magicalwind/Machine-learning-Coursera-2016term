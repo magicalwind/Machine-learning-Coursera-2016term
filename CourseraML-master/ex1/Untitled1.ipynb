{
 "cells": [
  {
   "cell_type": "code",
   "execution_count": null,
   "metadata": {
    "collapsed": false
   },
   "outputs": [],
   "source": [
    "import numpy as np\n",
    "a=np.array([[1, 2], [3, 4],[5,6]])\n",
    "b=np.array([[1,2,3],[4,5,6]])\n",
    "c=a.T\n",
    "print c\n",
    "d=np.dot(a,b)\n",
    "print d\n",
    "np.sum (d)\n",
    "\n",
    "np.sum (d[0,0:2])\n",
    "np.zeros(3\n",
    "    )\n",
    "\n",
    "print np.dot(b,a)\n"
   ]
  },
  {
   "cell_type": "code",
   "execution_count": null,
   "metadata": {
    "collapsed": false
   },
   "outputs": [],
   "source": [
    "testlist=[]\n",
    "type(list(b))\n",
    "len(list(b))\n",
    "testlist.append(list(a[:,0]))\n",
    "\n",
    "gcd=np.array(a[:,0]).reshape(1,3)\n",
    "gc=gcd.reshape(3,1)\n",
    "print np.shape(gc)\n",
    "print np.shape(gcd)\n",
    "\n",
    "print gcd*gcd\n"
   ]
  },
  {
   "cell_type": "raw",
   "metadata": {},
   "source": [
    "apple=np.array([[1],[2],[3]])\n",
    "banana=np.array([[1,2,3]])\n",
    "\n",
    "print np.shape(apple)\n",
    "print np.shape(banana)\n",
    "\n",
    "np.dot(apple,banana)\n",
    "np.dot(banana,apple)\n",
    "print \"hello\"\n"
   ]
  },
  {
   "cell_type": "code",
   "execution_count": 6,
   "metadata": {
    "collapsed": false
   },
   "outputs": [
    {
     "name": "stdout",
     "output_type": "stream",
     "text": [
      "(3, 1)\n",
      "(1, 3)\n"
     ]
    },
    {
     "data": {
      "text/plain": [
       "array([29])"
      ]
     },
     "execution_count": 6,
     "metadata": {},
     "output_type": "execute_result"
    }
   ],
   "source": [
    "import numpy as np\n",
    "apple=np.array([[1],[2],[3]])\n",
    "banana=np.array([[1,2,3]])\n",
    "orange=np.array([[1],[5],[6]])\n",
    "\n",
    "print np.shape(apple)\n",
    "print np.shape(banana)\n",
    "\n",
    "np.dot(apple,banana)\n",
    "np.dot(banana,apple)\n",
    "\n",
    "apple*orange\n",
    "sum(apple*orange)"
   ]
  },
  {
   "cell_type": "code",
   "execution_count": 28,
   "metadata": {
    "collapsed": false
   },
   "outputs": [
    {
     "data": {
      "text/plain": [
       "2"
      ]
     },
     "execution_count": 28,
     "metadata": {},
     "output_type": "execute_result"
    }
   ],
   "source": [
    "initial_theta = np.zeros((2,1))\n",
    "np.shape(initial_theta)\n",
    "\n",
    "len(initial_theta)\n"
   ]
  },
  {
   "cell_type": "code",
   "execution_count": 29,
   "metadata": {
    "collapsed": false
   },
   "outputs": [
    {
     "data": {
      "text/plain": [
       "[0, 1, 2, 3, 4]"
      ]
     },
     "execution_count": 29,
     "metadata": {},
     "output_type": "execute_result"
    }
   ],
   "source": [
    "range(5)"
   ]
  },
  {
   "cell_type": "code",
   "execution_count": 33,
   "metadata": {
    "collapsed": true
   },
   "outputs": [],
   "source": [
    "app=5"
   ]
  },
  {
   "cell_type": "code",
   "execution_count": 40,
   "metadata": {
    "collapsed": false
   },
   "outputs": [
    {
     "name": "stdout",
     "output_type": "stream",
     "text": [
      "<type 'numpy.ndarray'>\n"
     ]
    }
   ],
   "source": [
    "theta_initial=np.array([[0],[0]])\n",
    "print type(theta_initial[0])\n"
   ]
  },
  {
   "cell_type": "code",
   "execution_count": 41,
   "metadata": {
    "collapsed": false
   },
   "outputs": [
    {
     "name": "stdout",
     "output_type": "stream",
     "text": [
      "[ 0.  0.]\n"
     ]
    }
   ],
   "source": [
    "theta_start = np.zeros(2)\n",
    "print theta_start"
   ]
  },
  {
   "cell_type": "code",
   "execution_count": 44,
   "metadata": {
    "collapsed": false
   },
   "outputs": [
    {
     "name": "stdout",
     "output_type": "stream",
     "text": [
      "[ 1.   1.1  1.2  1.3  1.4  1.5  1.6  1.7  1.8  1.9  2.   2.1  2.2  2.3  2.4\n",
      "  2.5  2.6  2.7  2.8  2.9]\n"
     ]
    }
   ],
   "source": [
    "x=np.arange(1,3,0.1)\n",
    "print x"
   ]
  },
  {
   "cell_type": "code",
   "execution_count": 64,
   "metadata": {
    "collapsed": false
   },
   "outputs": [
    {
     "name": "stdout",
     "output_type": "stream",
     "text": [
      "0\n",
      "1\n",
      "2\n"
     ]
    }
   ],
   "source": [
    "newlist=[(1,2),(3,4),(5,6)]\n",
    "for x in xrange(3):\n",
    "    print x\n",
    "    "
   ]
  },
  {
   "cell_type": "code",
   "execution_count": 62,
   "metadata": {
    "collapsed": false
   },
   "outputs": [
    {
     "name": "stdout",
     "output_type": "stream",
     "text": [
      "rat\n"
     ]
    }
   ],
   "source": [
    "x=('rat',4)\n",
    "type(x)\n",
    "print x[0]"
   ]
  },
  {
   "cell_type": "code",
   "execution_count": null,
   "metadata": {
    "collapsed": true
   },
   "outputs": [],
   "source": []
  }
 ],
 "metadata": {
  "anaconda-cloud": {},
  "kernelspec": {
   "display_name": "Python [conda root]",
   "language": "python",
   "name": "conda-root-py"
  },
  "language_info": {
   "codemirror_mode": {
    "name": "ipython",
    "version": 2
   },
   "file_extension": ".py",
   "mimetype": "text/x-python",
   "name": "python",
   "nbconvert_exporter": "python",
   "pygments_lexer": "ipython2",
   "version": "2.7.12"
  }
 },
 "nbformat": 4,
 "nbformat_minor": 1
}
