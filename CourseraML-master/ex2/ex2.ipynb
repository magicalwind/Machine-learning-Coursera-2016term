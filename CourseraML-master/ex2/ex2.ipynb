{
 "cells": [
  {
   "cell_type": "markdown",
   "metadata": {},
   "source": [
    "## Programming Exercise 2: Logistic Regression"
   ]
  },
  {
   "cell_type": "code",
   "execution_count": null,
   "metadata": {
    "collapsed": false
   },
   "outputs": [],
   "source": [
    "%matplotlib inline\n",
    "import numpy as np\n",
    "import matplotlib.pyplot as plt\n",
    "import pandas as pd"
   ]
  },
  {
   "cell_type": "markdown",
   "metadata": {},
   "source": [
    "### 1 Logistic Regression"
   ]
  },
  {
   "cell_type": "code",
   "execution_count": null,
   "metadata": {
    "collapsed": false
   },
   "outputs": [],
   "source": [
    "datafile = 'data/ex2data1.txt'\n",
    "#!head $datafile\n",
    "cols = np.loadtxt(datafile,delimiter=',',usecols=(0,1,2),unpack=True) #Read in comma separated data\n",
    "##Form the usual \"X\" matrix and \"y\" vector\n",
    "X = np.transpose(np.array(cols[:-1]))\n",
    "y = np.transpose(np.array(cols[-1:]))\n",
    "m = y.size # number of training examples\n",
    "##Insert the usual column of 1's into the \"X\" matrix\n",
    "X = np.insert(X,0,1,axis=1)\n",
    "X[0]"
   ]
  },
  {
   "cell_type": "markdown",
   "metadata": {},
   "source": [
    "#### 1.1 Visualizing the data"
   ]
  },
  {
   "cell_type": "code",
   "execution_count": null,
   "metadata": {
    "collapsed": false
   },
   "outputs": [],
   "source": [
    "#Divide the sample into two: ones with positive classification, one with null classification\n",
    "pos = np.array([X[i] for i in xrange(X.shape[0]) if y[i] == 1])\n",
    "neg = np.array([X[i] for i in xrange(X.shape[0]) if y[i] == 0])\n",
    "#Check to make sure I included all entries\n",
    "#print \"Included everything? \",(len(pos)+len(neg) == X.shape[0])"
   ]
  },
  {
   "cell_type": "code",
   "execution_count": null,
   "metadata": {
    "collapsed": false
   },
   "outputs": [],
   "source": [
    "def plotData():\n",
    "    plt.figure(figsize=(10,6))\n",
    "    plt.plot(pos[:,1],pos[:,2],'k+',label='Admitted')\n",
    "    plt.plot(neg[:,1],neg[:,2],'yo',label='Not admitted')\n",
    "    plt.xlabel('Exam 1 score')\n",
    "    plt.ylabel('Exam 2 score')\n",
    "    plt.legend()\n",
    "    plt.grid(True)\n",
    "    \n",
    "plotData()"
   ]
  },
  {
   "cell_type": "markdown",
   "metadata": {},
   "source": [
    "#### 1.2 Implementation"
   ]
  },
  {
   "cell_type": "code",
   "execution_count": null,
   "metadata": {
    "collapsed": false
   },
   "outputs": [],
   "source": [
    "from scipy.special import expit #Vectorized sigmoid function"
   ]
  },
  {
   "cell_type": "code",
   "execution_count": null,
   "metadata": {
    "collapsed": false
   },
   "outputs": [],
   "source": [
    "#Quick check that expit is what I think it is\n",
    "myx = np.arange(-10,10,.1)\n",
    "plt.plot(myx,expit(myx))\n",
    "plt.title(\"Woohoo this looks like a sigmoid function to me.\")\n",
    "plt.grid(True)"
   ]
  },
  {
   "cell_type": "code",
   "execution_count": null,
   "metadata": {
    "collapsed": false
   },
   "outputs": [],
   "source": [
    "#Hypothesis function and cost function for logistic regression\n",
    "def h(mytheta,myX): #Logistic hypothesis function\n",
    "    return expit(np.dot(myX,mytheta))\n",
    "\n",
    "#Cost function, default lambda (regularization) 0\n",
    "def computeCost(mytheta,myX,myy,mylambda = 0.): \n",
    "    \"\"\"\n",
    "    theta_start is an n- dimensional vector of initial theta guess\n",
    "    X is matrix with n- columns and m- rows\n",
    "    y is a matrix with m- rows and 1 column\n",
    "    Note this includes regularization, if you set mylambda to nonzero\n",
    "    For the first part of the homework, the default 0. is used for mylambda\n",
    "    \"\"\"\n",
    "    #note to self: *.shape is (rows, columns)\n",
    "    term1 = np.dot(-np.array(myy).T,np.log(h(mytheta,myX)))\n",
    "    term2 = np.dot((1-np.array(myy)).T,np.log(1-h(mytheta,myX)))\n",
    "    regterm = (mylambda/2) * np.sum(np.dot(mytheta[1:].T,mytheta[1:])) #Skip theta0\n",
    "    return float( (1./m) * ( np.sum(term1 - term2) + regterm ) )"
   ]
  },
  {
   "cell_type": "code",
   "execution_count": null,
   "metadata": {
    "collapsed": false
   },
   "outputs": [],
   "source": [
    "#Check that with theta as zeros, cost returns about 0.693:\n",
    "initial_theta = np.zeros((X.shape[1],1))\n",
    "computeCost(initial_theta,X,y)"
   ]
  },
  {
   "cell_type": "code",
   "execution_count": null,
   "metadata": {
    "collapsed": false
   },
   "outputs": [],
   "source": [
    "#An alternative to OCTAVE's 'fminunc' we'll use some scipy.optimize function, \"fmin\"\n",
    "#Note \"fmin\" does not need to be told explicitly the derivative terms\n",
    "#It only needs the cost function, and it minimizes with the \"downhill simplex algorithm.\"\n",
    "#http://docs.scipy.org/doc/scipy-0.16.0/reference/generated/scipy.optimize.fmin.html\n",
    "from scipy import optimize\n",
    "\n",
    "def optimizeTheta(mytheta,myX,myy,mylambda=0.):\n",
    "    result = optimize.fmin(computeCost, x0=mytheta, args=(myX, myy, mylambda), maxiter=400, full_output=True)\n",
    "    return result[0], result[1]\n"
   ]
  },
  {
   "cell_type": "code",
   "execution_count": null,
   "metadata": {
    "collapsed": false
   },
   "outputs": [],
   "source": [
    "theta, mincost = optimizeTheta(initial_theta,X,y)\n",
    "#That's pretty cool. Black boxes ftw"
   ]
  },
  {
   "cell_type": "code",
   "execution_count": null,
   "metadata": {
    "collapsed": false
   },
   "outputs": [],
   "source": [
    "#\"Call your costFunction function using the optimal parameters of θ. \n",
    "#You should see that the cost is about 0.203.\"\n",
    "print computeCost(theta,X,y)"
   ]
  },
  {
   "cell_type": "code",
   "execution_count": null,
   "metadata": {
    "collapsed": false
   },
   "outputs": [],
   "source": [
    "#Plotting the decision boundary: two points, draw a line between\n",
    "#Decision boundary occurs when h = 0, or when\n",
    "#theta0 + theta1*x1 + theta2*x2 = 0\n",
    "#y=mx+b is replaced by x2 = (-1/thetheta2)(theta0 + theta1*x1)\n",
    "\n",
    "boundary_xs = np.array([np.min(X[:,1]), np.max(X[:,1])])\n",
    "boundary_ys = (-1./theta[2])*(theta[0] + theta[1]*boundary_xs)\n",
    "plotData()\n",
    "plt.plot(boundary_xs,boundary_ys,'b-',label='Decision Boundary')\n",
    "plt.legend()"
   ]
  },
  {
   "cell_type": "code",
   "execution_count": null,
   "metadata": {
    "collapsed": false
   },
   "outputs": [],
   "source": [
    "#For a student with an Exam 1 score of 45 and an Exam 2 score of 85, \n",
    "#you should expect to see an admission probability of 0.776.\n",
    "print h(theta,np.array([1, 45.,85.]))"
   ]
  },
  {
   "cell_type": "code",
   "execution_count": null,
   "metadata": {
    "collapsed": false
   },
   "outputs": [],
   "source": [
    "def makePrediction(mytheta, myx):\n",
    "    return h(mytheta,myx) >= 0.5\n",
    "\n",
    "#Compute the percentage of samples I got correct:\n",
    "pos_correct = float(np.sum(makePrediction(theta,pos)))\n",
    "neg_correct = float(np.sum(np.invert(makePrediction(theta,neg))))\n",
    "tot = len(pos)+len(neg)\n",
    "prcnt_correct = float(pos_correct+neg_correct)/tot\n",
    "print \"Fraction of training samples correctly predicted: %f.\" % prcnt_correct "
   ]
  },
  {
   "cell_type": "markdown",
   "metadata": {},
   "source": [
    "### 2 Regularized Logistic Regression"
   ]
  },
  {
   "cell_type": "markdown",
   "metadata": {},
   "source": [
    "#### 2.1 Visualizing the data"
   ]
  },
  {
   "cell_type": "code",
   "execution_count": null,
   "metadata": {
    "collapsed": false
   },
   "outputs": [],
   "source": [
    "datafile = 'data/ex2data2.txt'\n",
    "#!head $datafile\n",
    "cols = np.loadtxt(datafile,delimiter=',',usecols=(0,1,2),unpack=True) #Read in comma separated data\n",
    "##Form the usual \"X\" matrix and \"y\" vector\n",
    "X = np.transpose(np.array(cols[:-1]))\n",
    "y = np.transpose(np.array(cols[-1:]))\n",
    "m = y.size # number of training examples\n",
    "##Insert the usual column of 1's into the \"X\" matrix\n",
    "X = np.insert(X,0,1,axis=1)"
   ]
  },
  {
   "cell_type": "code",
   "execution_count": null,
   "metadata": {
    "collapsed": false
   },
   "outputs": [],
   "source": [
    "#Divide the sample into two: ones with positive classification, one with null classification\n",
    "pos = np.array([X[i] for i in xrange(X.shape[0]) if y[i] == 1])\n",
    "neg = np.array([X[i] for i in xrange(X.shape[0]) if y[i] == 0])\n",
    "#Check to make sure I included all entries\n",
    "#print \"Included everything? \",(len(pos)+len(neg) == X.shape[0])"
   ]
  },
  {
   "cell_type": "code",
   "execution_count": null,
   "metadata": {
    "collapsed": false
   },
   "outputs": [],
   "source": [
    "def plotData():\n",
    "    plt.plot(pos[:,1],pos[:,2],'k+',label='y=1')\n",
    "    plt.plot(neg[:,1],neg[:,2],'yo',label='y=0')\n",
    "    plt.xlabel('Microchip Test 1')\n",
    "    plt.ylabel('Microchip Test 2')\n",
    "    plt.legend()\n",
    "    plt.grid(True)\n",
    "\n",
    "#Draw it square to emphasize circular features\n",
    "plt.figure(figsize=(6,6))\n",
    "plotData()"
   ]
  },
  {
   "cell_type": "markdown",
   "metadata": {},
   "source": [
    "#### 2.2 Feature mapping"
   ]
  },
  {
   "cell_type": "code",
   "execution_count": null,
   "metadata": {
    "collapsed": true
   },
   "outputs": [],
   "source": [
    "#This code I took from someone else (the OCTAVE equivalent was provided in the HW)\n",
    "def mapFeature( x1col, x2col ):\n",
    "    \"\"\" \n",
    "    Function that takes in a column of n- x1's, a column of n- x2s, and builds\n",
    "    a n- x 28-dim matrix of featuers as described in the homework assignment\n",
    "    \"\"\"\n",
    "    degrees = 6\n",
    "    out = np.ones( (x1col.shape[0], 1) )\n",
    "\n",
    "    for i in range(1, degrees+1):\n",
    "        for j in range(0, i+1):\n",
    "            term1 = x1col ** (i-j)\n",
    "            term2 = x2col ** (j)\n",
    "            term  = (term1 * term2).reshape( term1.shape[0], 1 ) \n",
    "            out   = np.hstack(( out, term ))\n",
    "    return out"
   ]
  },
  {
   "cell_type": "code",
   "execution_count": null,
   "metadata": {
    "collapsed": false
   },
   "outputs": [],
   "source": [
    "#Create feature-mapped X matrix\n",
    "mappedX = mapFeature(X[:,1],X[:,2])"
   ]
  },
  {
   "cell_type": "markdown",
   "metadata": {},
   "source": [
    "#### 2.3 Cost function and gradient"
   ]
  },
  {
   "cell_type": "code",
   "execution_count": null,
   "metadata": {
    "collapsed": false
   },
   "outputs": [],
   "source": [
    "#Cost function is the same as the one implemented above, as I included the regularization\n",
    "#toggled off for default function call (lambda = 0)\n",
    "#I do not need separate implementation of the derivative term of the cost function\n",
    "#Because the scipy optimization function I'm using only needs the cost function itself\n",
    "#Let's check that the cost function returns a cost of 0.693 with zeros for initial theta,\n",
    "#and regularized x values\n",
    "initial_theta = np.zeros((mappedX.shape[1],1))\n",
    "computeCost(initial_theta,mappedX,y)"
   ]
  },
  {
   "cell_type": "markdown",
   "metadata": {},
   "source": [
    "##### 2.3.1 Learning parameters using fminunc"
   ]
  },
  {
   "cell_type": "code",
   "execution_count": null,
   "metadata": {
    "collapsed": false
   },
   "outputs": [],
   "source": [
    "#I noticed that fmin wasn't converging (passing max # of iterations)\n",
    "#so let's use minimize instead\n",
    "\n",
    "def optimizeRegularizedTheta(mytheta,myX,myy,mylambda=0.):\n",
    "    result = optimize.minimize(computeCost, mytheta, args=(myX, myy, mylambda),  method='BFGS', options={\"maxiter\":500, \"disp\":False} )\n",
    "    return np.array([result.x]), result.fun\n",
    "    \n",
    "theta, mincost = optimizeRegularizedTheta(initial_theta,mappedX,y)"
   ]
  },
  {
   "cell_type": "markdown",
   "metadata": {},
   "source": [
    "#### 2.4 Plotting the decision boundary"
   ]
  },
  {
   "cell_type": "code",
   "execution_count": null,
   "metadata": {
    "collapsed": false
   },
   "outputs": [],
   "source": [
    "def plotBoundary(mytheta, myX, myy, mylambda=0.):\n",
    "    \"\"\"\n",
    "    Function to plot the decision boundary for arbitrary theta, X, y, lambda value\n",
    "    Inside of this function is feature mapping, and the minimization routine.\n",
    "    It works by making a grid of x1 (\"xvals\") and x2 (\"yvals\") points,\n",
    "    And for each, computing whether the hypothesis classifies that point as\n",
    "    True or False. Then, a contour is drawn with a built-in pyplot function.\n",
    "    \"\"\"\n",
    "    theta, mincost = optimizeRegularizedTheta(mytheta,myX,myy,mylambda)\n",
    "    xvals = np.linspace(-1,1.5,50)\n",
    "    yvals = np.linspace(-1,1.5,50)\n",
    "    zvals = np.zeros((len(xvals),len(yvals)))\n",
    "    for i in xrange(len(xvals)):\n",
    "        for j in xrange(len(yvals)):\n",
    "            myfeaturesij = mapFeature(np.array([xvals[i]]),np.array([yvals[j]]))\n",
    "            zvals[i][j] = np.dot(theta,myfeaturesij.T)\n",
    "    zvals = zvals.transpose()\n",
    "\n",
    "    u, v = np.meshgrid( xvals, yvals )\n",
    "    mycontour = plt.contour( xvals, yvals, zvals, [0])\n",
    "    #Kind of a hacky way to display a text on top of the decision boundary\n",
    "    myfmt = { 0:'Lambda = %d'%mylambda}\n",
    "    plt.clabel(mycontour, inline=1, fontsize=15, fmt=myfmt)\n",
    "    plt.title(\"Decision Boundary\")"
   ]
  },
  {
   "cell_type": "code",
   "execution_count": null,
   "metadata": {
    "collapsed": false
   },
   "outputs": [],
   "source": [
    "#Build a figure showing contours for various values of regularization parameter, lambda\n",
    "#It shows for lambda=0 we are overfitting, and for lambda=100 we are underfitting\n",
    "plt.figure(figsize=(12,10))\n",
    "plt.subplot(221)\n",
    "plotData()\n",
    "plotBoundary(theta,mappedX,y,0.)\n",
    "\n",
    "plt.subplot(222)\n",
    "plotData()\n",
    "plotBoundary(theta,mappedX,y,1.)\n",
    "\n",
    "plt.subplot(223)\n",
    "plotData()\n",
    "plotBoundary(theta,mappedX,y,10.)\n",
    "\n",
    "plt.subplot(224)\n",
    "plotData()\n",
    "plotBoundary(theta,mappedX,y,100.)"
   ]
  },
  {
   "cell_type": "code",
   "execution_count": null,
   "metadata": {
    "collapsed": true
   },
   "outputs": [],
   "source": []
  }
 ],
 "metadata": {
  "anaconda-cloud": {},
  "kernelspec": {
   "display_name": "Python [default]",
   "language": "python",
   "name": "python2"
  },
  "language_info": {
   "codemirror_mode": {
    "name": "ipython",
    "version": 2
   },
   "file_extension": ".py",
   "mimetype": "text/x-python",
   "name": "python",
   "nbconvert_exporter": "python",
   "pygments_lexer": "ipython2",
   "version": "2.7.12"
  }
 },
 "nbformat": 4,
 "nbformat_minor": 0
}
